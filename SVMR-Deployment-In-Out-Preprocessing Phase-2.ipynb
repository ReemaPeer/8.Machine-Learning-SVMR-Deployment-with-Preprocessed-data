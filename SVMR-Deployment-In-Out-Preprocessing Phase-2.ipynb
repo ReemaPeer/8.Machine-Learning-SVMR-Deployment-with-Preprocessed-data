{
 "cells": [
  {
   "cell_type": "code",
   "execution_count": 1,
   "id": "9b2723ff",
   "metadata": {},
   "outputs": [],
   "source": [
    "# Importing the required libraries\n",
    "\n",
    "import pickle\n",
    "import pandas as pd"
   ]
  },
  {
   "cell_type": "code",
   "execution_count": 2,
   "id": "75c8bada",
   "metadata": {},
   "outputs": [],
   "source": [
    "# Loading the data and the preprocessing process for deployment\n",
    "\n",
    "dataset = pd.read_csv(\"50_Startups.csv\")\n",
    "dataset = pd.get_dummies(dataset, drop_first = True)\n",
    "independent = dataset[['R&D Spend', 'Administration', 'Marketing Spend','State_Florida', 'State_New York']]\n",
    "dependent = dataset[['Profit']]"
   ]
  },
  {
   "cell_type": "code",
   "execution_count": 3,
   "id": "d532c055",
   "metadata": {},
   "outputs": [],
   "source": [
    "from sklearn.model_selection import train_test_split\n",
    "x_train, x_test, y_train, y_test = train_test_split(independent, dependent, train_size = 1/3, random_state= 0)"
   ]
  },
  {
   "cell_type": "code",
   "execution_count": 4,
   "id": "5540ff17",
   "metadata": {},
   "outputs": [],
   "source": [
    "from sklearn.preprocessing import StandardScaler\n",
    "sc = StandardScaler()\n",
    "x_train = sc.fit_transform(x_train)\n",
    "x_test = sc.transform(x_test)"
   ]
  },
  {
   "cell_type": "code",
   "execution_count": 5,
   "id": "61c21b12",
   "metadata": {},
   "outputs": [],
   "source": [
    "scy=StandardScaler()\n",
    "y_train = scy.fit_transform(y_train)\n",
    "y_test = scy.transform(y_test)"
   ]
  },
  {
   "cell_type": "code",
   "execution_count": 13,
   "id": "2456a8c6",
   "metadata": {},
   "outputs": [
    {
     "name": "stderr",
     "output_type": "stream",
     "text": [
      "C:\\Users\\reema\\anaconda3\\Lib\\site-packages\\sklearn\\base.py:464: UserWarning: X does not have valid feature names, but StandardScaler was fitted with feature names\n",
      "  warnings.warn(\n"
     ]
    }
   ],
   "source": [
    "# Preprocessing the input data for prediction \n",
    "\n",
    "prein = sc.transform([[1200,1300,4000,0,1]])"
   ]
  },
  {
   "cell_type": "code",
   "execution_count": 14,
   "id": "dbc0c61d",
   "metadata": {},
   "outputs": [],
   "source": [
    "# Predicting the output for the given preprocessed input\n",
    "\n",
    "loaded_model = pickle.load(open(\"final_model_svr_inout.sav\",'rb'))\n",
    "result = loaded_model.predict(prein)"
   ]
  },
  {
   "cell_type": "code",
   "execution_count": 15,
   "id": "2b15edd3",
   "metadata": {},
   "outputs": [
    {
     "data": {
      "text/plain": [
       "array([[48370.22041395]])"
      ]
     },
     "execution_count": 15,
     "metadata": {},
     "output_type": "execute_result"
    }
   ],
   "source": [
    "# Reverse processing the predicted output for user understandable output\n",
    "\n",
    "preout = scy.inverse_transform([result])\n",
    "preout"
   ]
  },
  {
   "cell_type": "code",
   "execution_count": null,
   "id": "feeb45e8",
   "metadata": {},
   "outputs": [],
   "source": []
  }
 ],
 "metadata": {
  "kernelspec": {
   "display_name": "Python 3 (ipykernel)",
   "language": "python",
   "name": "python3"
  },
  "language_info": {
   "codemirror_mode": {
    "name": "ipython",
    "version": 3
   },
   "file_extension": ".py",
   "mimetype": "text/x-python",
   "name": "python",
   "nbconvert_exporter": "python",
   "pygments_lexer": "ipython3",
   "version": "3.11.4"
  }
 },
 "nbformat": 4,
 "nbformat_minor": 5
}
